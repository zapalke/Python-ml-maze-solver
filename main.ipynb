{
 "cells": [
  {
   "cell_type": "code",
   "execution_count": 1,
   "metadata": {},
   "outputs": [],
   "source": [
    "import numpy as np\n",
    "import matplotlib.pyplot as plt\n",
    "from matplotlib import colors"
   ]
  },
  {
   "cell_type": "code",
   "execution_count": 2,
   "metadata": {},
   "outputs": [],
   "source": [
    "def generate_maze(X, Y, objects, probability, show_img):\n",
    "    #Funtion that generates random maze with set of objects that have given probability\n",
    "    #of appearing. Start (x=0,y=0) and end (x=X,y=Y) points always have to be white (walkable)\n",
    "        if len(objects) != len(probability):\n",
    "            print(f'[Error] Objects and probability have different number of items.')\n",
    "            return None\n",
    "        elif np.sum(probability) != 1.0:\n",
    "            print(f'[Error] Sum of probabilities does not equal 1.0.')\n",
    "            return None\n",
    "        else:\n",
    "            cmap = colors.ListedColormap(['white','black','grey','red','green','orange'])\n",
    "            bounds = [0,0.5,0.8,1,2,3,4]\n",
    "            norm = colors.BoundaryNorm(bounds,cmap.N)\n",
    "            maze = np.random.choice(objects,(X,Y),p=probability)\n",
    "            maze[0,0] = 0\n",
    "            maze[X-1,Y-1] = 0\n",
    "            if show_img:\n",
    "                plt.figure()\n",
    "                im = plt.imshow(maze,interpolation='none', aspect='equal',\n",
    "                                cmap=cmap,norm=norm)\n",
    "                ax = plt.gca()\n",
    "                # Major ticks\n",
    "                ax.set_xticks(np.arange(0, 10, 1))\n",
    "                ax.set_yticks(np.arange(0, 10, 1))\n",
    "                # Labels for major ticks\n",
    "                ax.set_xticklabels(np.arange(1, 11, 1))\n",
    "                ax.set_yticklabels(np.arange(1, 11, 1))\n",
    "                # Minor ticks\n",
    "                ax.set_xticks(np.arange(-.5, 10, 1), minor=True)\n",
    "                ax.set_yticks(np.arange(-.5, 10, 1), minor=True)\n",
    "                # Gridlines based on minor ticks\n",
    "                ax.grid(which='minor', color='black', linestyle='-', linewidth=1)\n",
    "                # Remove minor ticks\n",
    "                ax.tick_params(which='minor', bottom=False, left=False)\n",
    "            return maze"
   ]
  },
  {
   "cell_type": "code",
   "execution_count": 3,
   "metadata": {},
   "outputs": [
    {
     "data": {
      "image/png": "[encoded data removed]",
      "text/plain": [
       "<Figure size 640x480 with 1 Axes>"
      ]
     },
     "metadata": {},
     "output_type": "display_data"
    }
   ],
   "source": [
    "maze = generate_maze(8,8,[0,1],[0.8,0.2],1)"
   ]
  },
  {
   "cell_type": "code",
   "execution_count": null,
   "metadata": {},
   "outputs": [],
   "source": []
  }
 ],
 "metadata": {
  "kernelspec": {
   "display_name": "Python-ml-maze-solver-IRIHQYie",
   "language": "python",
   "name": "python3"
  },
  "language_info": {
   "codemirror_mode": {
    "name": "ipython",
    "version": 3
   },
   "file_extension": ".py",
   "mimetype": "text/x-python",
   "name": "python",
   "nbconvert_exporter": "python",
   "pygments_lexer": "ipython3",
   "version": "3.10.8"
  },
  "orig_nbformat": 4
 },
 "nbformat": 4,
 "nbformat_minor": 2
}
